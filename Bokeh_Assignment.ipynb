{
  "nbformat": 4,
  "nbformat_minor": 0,
  "metadata": {
    "colab": {
      "provenance": []
    },
    "kernelspec": {
      "name": "python3",
      "display_name": "Python 3"
    },
    "language_info": {
      "name": "python"
    }
  },
  "cells": [
    {
      "cell_type": "code",
      "execution_count": null,
      "metadata": {
        "id": "MZQq91TGHS54"
      },
      "outputs": [],
      "source": []
    },
    {
      "cell_type": "markdown",
      "source": [
        "Q1. How can you create a Bokeh plot using Python code?"
      ],
      "metadata": {
        "id": "hbzJJ-a9HWUP"
      }
    },
    {
      "cell_type": "markdown",
      "source": [
        "1.Install Bokeh: If you haven't already, install the Bokeh library using pip:\n",
        "\n",
        "pip install bokeh\n",
        "2.Import Necessary Modules: Import the required modules from Bokeh to create plots.\n",
        "\n",
        "from bokeh.plotting import figure, show\n",
        "3.Create Data: Prepare your data that you want to visualize. For example, create lists for x and y data points.\n",
        "\n",
        "x = [1, 2, 3, 4, 5]\n",
        "y = [6, 7, 2, 4, 5]\n",
        "4.Create a Figure: Create a figure object that will hold your plot.\n",
        "\n",
        "p = figure(title=\"My Bokeh Plot\", x_axis_label='X-axis', y_axis_label='Y-axis')\n",
        "5.Add Glyphs: Add glyphs (geometric shapes) to the figure to represent your data. For example, use the line method to create a line plot.\n",
        "\n",
        "p.line(x, y, legend_label=\"Line Plot\", line_width=2)\n",
        "6.Customize the Plot: You can customize various aspects of the plot, such as titles, labels, colors, etc.\n",
        "\n",
        "7.Show the Plot: Finally, use the show function to display the plot.\n",
        "\n",
        "show(p)\n",
        "Putting it all together, here's an example code snippet to create a simple Bokeh line plot"
      ],
      "metadata": {
        "id": "zoNWnkQhHy9A"
      }
    },
    {
      "cell_type": "code",
      "source": [],
      "metadata": {
        "id": "qKL4QcGWHZu7"
      },
      "execution_count": null,
      "outputs": []
    },
    {
      "cell_type": "markdown",
      "source": [
        "Q2. What are glyphs in Bokeh, and how can you add them to a Bokeh plot? Explain with an example."
      ],
      "metadata": {
        "id": "6_z4lsIeIhOx"
      }
    },
    {
      "cell_type": "code",
      "source": [],
      "metadata": {
        "id": "5onul1wvJaDc"
      },
      "execution_count": null,
      "outputs": []
    },
    {
      "cell_type": "markdown",
      "source": [
        "# Data\n",
        "x = [1, 2, 3, 4, 5]\n",
        "y = [6, 7, 2, 4, 5]\n",
        "\n",
        "# Create a figure\n",
        "p = figure(title=\"My Bokeh Scatter Plot\", x_axis_label='X-axis', y_axis_label='Y-axis')\n",
        "\n",
        "# Add a circle glyph for scatter plot\n",
        "p.circle(x, y, size=10, color='blue', alpha=0.8, legend_label=\"Data Points\")\n",
        "\n",
        "# Show the plot\n",
        "show(p)\n",
        "\n",
        "\n",
        "\n",
        "\n",
        "# Add a line glyph\n",
        "p.line(x, y, line_width=2, line_color='red', legend_label=\"Line Plot\")\n",
        "\n",
        "\n",
        "\n",
        "\n",
        "\n",
        "# Add a rectangle glyph\n",
        "p.rect(x, y, width=0.2, height=0.5, color='green', legend_label=\"Rectangles\")"
      ],
      "metadata": {
        "id": "AkemuHzdJxVH"
      }
    },
    {
      "cell_type": "code",
      "source": [],
      "metadata": {
        "id": "di_zKTMbJyT6"
      },
      "execution_count": null,
      "outputs": []
    },
    {
      "cell_type": "markdown",
      "source": [
        "Q3. How can you customize the appearance of a Bokeh plot, including the axes, title, and legend?"
      ],
      "metadata": {
        "id": "jGmeONm5Jz2W"
      }
    },
    {
      "cell_type": "code",
      "source": [
        "\n",
        "1. Customizing Axes:\n",
        "   You can customize the appearance of the axes using properties like `axis_label`, `axis_label_standoff`, `axis_line_color`, `axis_line_width`, `major_label_text_color`, etc.\n",
        "\n",
        "\n",
        "   p.xaxis.axis_label = \"X-axis Label\"\n",
        "   p.yaxis.axis_label = \"Y-axis Label\"\n",
        "   p.xaxis.axis_label_standoff = 10\n",
        "   p.yaxis.major_label_text_color = \"blue\"\n",
        "\n",
        "\n",
        "2. Customizing Title:\n",
        "   You can customize the title of the plot using the `title` attribute and adjust the title's font size, color, and alignment.\n",
        "\n",
        "\n",
        "   p.title.text = \"Customized Bokeh Plot Title\"\n",
        "   p.title.text_font_size = \"18pt\"\n",
        "   p.title.text_color = \"purple\"\n",
        "   p.title.align = \"center\"\n",
        "\n",
        "\n",
        "3. Customizing Legend:\n",
        "   You can customize the appearance of the legend using attributes like `legend.title`, `legend.label_text_font_size`, `legend.label_text_color`, and more.\n",
        "\n",
        "   p.legend.title = \"My Legend\"\n",
        "   p.legend.label_text_font_size = \"12pt\"\n",
        "   p.legend.label_text_color = \"green\"\n",
        "\n",
        "\n",
        "4. Overall Plot Styling:\n",
        "   You can also adjust the overall styling of the plot, including background color, grid lines, and plot width/height.\n",
        "\n",
        "\n",
        "   p.background_fill_color = \"lightgray\"\n",
        "   p.grid.grid_line_color = \"white\"\n",
        "   p.plot_width = 800\n",
        "   p.plot_height = 600\n",
        "\n",
        "\n",
        "By combining these customizations, you can create a visually appealing and informative plot. Here's a more complete example that incorporates all these customizations:\n",
        "\n",
        "\n",
        "from bokeh.plotting import figure, show\n",
        "\n",
        "# Data\n",
        "x = [1, 2, 3, 4, 5]\n",
        "y = [6, 7, 2, 4, 5]\n",
        "\n",
        "# Create a figure\n",
        "p = figure(title=\"Customized Bokeh Plot\", x_axis_label='X-axis', y_axis_label='Y-axis')\n",
        "p.background_fill_color = \"lightgray\"\n",
        "p.grid.grid_line_color = \"white\"\n",
        "p.plot_width = 800\n",
        "p.plot_height = 600\n",
        "\n",
        "# Customize axes\n",
        "p.xaxis.axis_label_standoff = 10\n",
        "p.yaxis.major_label_text_color = \"blue\"\n",
        "\n",
        "# Customize title\n",
        "p.title.text_font_size = \"18pt\"\n",
        "p.title.text_color = \"purple\"\n",
        "p.title.align = \"center\"\n",
        "\n",
        "# Customize legend\n",
        "p.legend.title = \"My Legend\"\n",
        "p.legend.label_text_font_size = \"12pt\"\n",
        "p.legend.label_text_color = \"green\"\n",
        "\n",
        "# Add glyphs and show the plot\n",
        "p.circle(x, y, size=10, color='blue', alpha=0.8, legend_label=\"Data Points\")\n",
        "show(p)"
      ],
      "metadata": {
        "colab": {
          "base_uri": "https://localhost:8080/",
          "height": 106
        },
        "id": "qddx7ETgJ3TS",
        "outputId": "e8692e0e-be64-4dff-8414-df589f4ff2ec"
      },
      "execution_count": 5,
      "outputs": [
        {
          "output_type": "error",
          "ename": "SyntaxError",
          "evalue": "unterminated string literal (detected at line 12) (<ipython-input-5-c842c13c20db>, line 12)",
          "traceback": [
            "\u001b[0;36m  File \u001b[0;32m\"<ipython-input-5-c842c13c20db>\"\u001b[0;36m, line \u001b[0;32m12\u001b[0m\n\u001b[0;31m    You can customize the title of the plot using the `title` attribute and adjust the title's font size, color, and alignment.\u001b[0m\n\u001b[0m                                                                                            ^\u001b[0m\n\u001b[0;31mSyntaxError\u001b[0m\u001b[0;31m:\u001b[0m unterminated string literal (detected at line 12)\n"
          ]
        }
      ]
    },
    {
      "cell_type": "markdown",
      "source": [
        "Q4. What is a Bokeh server, and how can you use it to create interactive plots that can be updated in\n",
        "real time?"
      ],
      "metadata": {
        "id": "eOCxa2lXKTrV"
      }
    },
    {
      "cell_type": "markdown",
      "source": [
        "A Bokeh server is a powerful feature of the Bokeh library that allows you to create interactive web applications with dynamic, real-time updates. With the Bokeh server, you can create plots, widgets, and other components that respond to user interactions and data changes, providing a highly interactive and dynamic user experience.\n",
        "\n",
        "Using a Bokeh server, you can create web applications that update in real time based on user inputs, such as selections, sliders, buttons, and more. The server runs a Python process that communicates with the browser to maintain a live connection, enabling seamless updates and interactivity without the need to refresh the entire page.\n",
        "\n",
        "Here's an overview of how you can use the Bokeh server to create interactive plots that update in real time:\n",
        "\n",
        "1. Install Bokeh: If you haven't already, make sure you have Bokeh installed:\n",
        "\n",
        "  \n",
        "   pip install bokeh\n",
        "  \n",
        "\n",
        "2. Import Necessary Modules: Import the required modules from Bokeh and create the necessary plots and widgets.\n",
        "\n",
        "3. Define a Function for Updates: Create a Python function that defines how the plot should update based on user interactions or data changes. You can use Bokeh's reactive programming model to define dependencies between widgets and the plot.\n",
        "\n",
        "4. Create and Run the Bokeh Server Application: Use the curdoc() function to create and run the Bokeh server application. Inside the application, you'll define the layout, widgets, and callbacks.\n",
        "\n",
        "\n",
        "\n",
        "\n"
      ],
      "metadata": {
        "id": "Qa7JqDF7Ke90"
      }
    },
    {
      "cell_type": "markdown",
      "source": [],
      "metadata": {
        "id": "O6YToRktKt18"
      }
    },
    {
      "cell_type": "markdown",
      "source": [],
      "metadata": {
        "id": "p9LWbaNRLIsa"
      }
    },
    {
      "cell_type": "code",
      "source": [
        "from bokeh.plotting import figure, curdoc\n",
        "from bokeh.models import Slider\n",
        "from bokeh.layouts import column\n",
        "\n",
        "# Create a figure\n",
        "p = figure(title=\"Interactive Scatter Plot\")\n",
        "\n",
        "# Initial data\n",
        "x = [1, 2, 3, 4, 5]\n",
        "y = [6, 7, 2, 4, 5]\n",
        "\n",
        "# Create scatter plot\n",
        "scatter = p.circle(x, y, size=10, color='blue', alpha=0.8)\n",
        "\n",
        "# Create a slider\n",
        "slider = Slider(start=5, end=20, value=10, step=1, title=\"Point Size\")\n",
        "\n",
        "# Define callback function\n",
        "def update_size(attr, old, new):\n",
        "    scatter.glyph.size = slider.value\n",
        "\n",
        "# Attach callback to slider\n",
        "slider.on_change('value', update_size)\n",
        "\n",
        "# Create layout\n",
        "layout = column(p, slider)\n",
        "\n",
        "# Run Bokeh server application\n",
        "curdoc().add_root(layout)"
      ],
      "metadata": {
        "colab": {
          "base_uri": "https://localhost:8080/"
        },
        "id": "Sh0JEcvZKfxo",
        "outputId": "ac508d5d-ce8d-4c36-82fa-ea8bafb097bf"
      },
      "execution_count": 6,
      "outputs": [
        {
          "output_type": "stream",
          "name": "stderr",
          "text": [
            "BokehDeprecationWarning: 'circle() method with size value' was deprecated in Bokeh 3.4.0 and will be removed, use 'scatter(size=...) instead' instead.\n"
          ]
        }
      ]
    },
    {
      "cell_type": "markdown",
      "source": [
        "Q5. How can you embed a Bokeh plot into a web page or dashboard using Flask or Django?"
      ],
      "metadata": {
        "id": "HBo9mJeSLJ3a"
      }
    },
    {
      "cell_type": "code",
      "source": [],
      "metadata": {
        "id": "CivkJeFUKuzI"
      },
      "execution_count": null,
      "outputs": []
    },
    {
      "cell_type": "markdown",
      "source": [
        "Ans = Embedding a Bokeh plot into a web page or dashboard using Flask or Django involves integrating the Bokeh plot as a component within the respective web framework. Here's a general outline of how you can achieve this using either Flask or Django"
      ],
      "metadata": {
        "id": "QEvQrRHwLNra"
      }
    },
    {
      "cell_type": "code",
      "source": [
        "\"\"\"Embedding a Bokeh plot into a web page or dashboard using Flask or Django involves integrating the Bokeh plot as a component within the respective web framework. Here's a general outline of how you can achieve this using either Flask or Django:\n",
        "\n",
        "Using Flask:\n",
        "\n",
        "1. Install Flask and Bokeh:\n",
        "   If you haven't already, install Flask and Bokeh:\n",
        "\n",
        "\n",
        "   pip install Flask bokeh\n",
        "\n",
        "\n",
        "2. Create a Flask App:\n",
        "   Create a Flask app with a route that renders an HTML template. You'll need to generate the Bokeh plot and convert it to HTML using the `components` function.\n",
        "\n",
        "\n",
        "   from flask import Flask, render_template\n",
        "   from bokeh.plotting import figure\n",
        "   from bokeh.embed import components\n",
        "\n",
        "   app = Flask(__name__)\n",
        "\n",
        "   @app.route('/')\n",
        "   def index():\n",
        "       # Create a Bokeh plot\n",
        "       p = figure(title=\"My Bokeh Plot\", x_axis_label='X-axis', y_axis_label='Y-axis')\n",
        "       # Add glyphs and customize the plot here\n",
        "\n",
        "       # Convert plot to HTML components\n",
        "       script, div = components(p)\n",
        "       return render_template('index.html', script=script, div=div)\n",
        "\n",
        "   if __name__ == '__main__':\n",
        "       app.run(debug=True)\n",
        "\n",
        "\n",
        "3. Create HTML Template:\n",
        "   Create an HTML template (e.g., `templates/index.html`) that includes the Bokeh plot components using Jinja2 templating.\n",
        "\n",
        "   ```html\n",
        "   <!DOCTYPE html>\n",
        "   <html lang=\"en\">\n",
        "   <head>\n",
        "       <meta charset=\"UTF-8\">\n",
        "       <title>Bokeh Plot in Flask</title>\n",
        "       {{ script|safe }}\n",
        "   </head>\n",
        "   <body>\n",
        "       <h1>Embedded Bokeh Plot</h1>\n",
        "       {{ div|safe }}\n",
        "   </body>\n",
        "   </html>\n",
        "   ```\n",
        "\n",
        "Using Django:\n",
        "\n",
        "1. Install Django and Bokeh:\n",
        "   If you haven't already, install Django and Bokeh:\n",
        "\n",
        "\n",
        "   pip install Django bokeh\n",
        "\n",
        "\n",
        "2. Create a Django Project and App:\n",
        "   Create a Django project and app. In your app's views, generate the Bokeh plot and convert it to HTML components.\n",
        "\n",
        "\n",
        "   from django.shortcuts import render\n",
        "   from bokeh.plotting import figure\n",
        "   from bokeh.embed import components\n",
        "\n",
        "   def bokeh_plot(request):\n",
        "       # Create a Bokeh plot\n",
        "       p = figure(title=\"My Bokeh Plot\", x_axis_label='X-axis', y_axis_label='Y-axis')\n",
        "       # Add glyphs and customize the plot here\n",
        "\n",
        "       # Convert plot to HTML components\n",
        "       script, div = components(p)\n",
        "       return render(request, 'app/bokeh_plot.html', {'script': script, 'div': div})\n",
        "\n",
        "\n",
        "3. Create HTML Template:\n",
        "   Create an HTML template (e.g., `app/templates/app/bokeh_plot.html`) that includes the Bokeh plot components.\n",
        "\n",
        "   ```html\n",
        "   <!DOCTYPE html>\n",
        "   <html lang=\"en\">\n",
        "   <head>\n",
        "       <meta charset=\"UTF-8\">\n",
        "       <title>Bokeh Plot in Django</title>\n",
        "       {{ script|safe }}\n",
        "   </head>\n",
        "   <body>\n",
        "       <h1>Embedded Bokeh Plot</h1>\n",
        "       {{ div|safe }}\n",
        "   </body>\n",
        "   </html>\"\"\""
      ],
      "metadata": {
        "colab": {
          "base_uri": "https://localhost:8080/",
          "height": 140
        },
        "id": "ex7KqMNFLm0Z",
        "outputId": "b327c953-baca-44b6-8867-844dae689131"
      },
      "execution_count": 9,
      "outputs": [
        {
          "output_type": "execute_result",
          "data": {
            "text/plain": [
              "'Embedding a Bokeh plot into a web page or dashboard using Flask or Django involves integrating the Bokeh plot as a component within the respective web framework. Here\\'s a general outline of how you can achieve this using either Flask or Django:\\n\\nUsing Flask:\\n\\n1. Install Flask and Bokeh:\\n   If you haven\\'t already, install Flask and Bokeh:\\n\\n  \\n   pip install Flask bokeh\\n   \\n\\n2. Create a Flask App:\\n   Create a Flask app with a route that renders an HTML template. You\\'ll need to generate the Bokeh plot and convert it to HTML using the `components` function.\\n\\n   \\n   from flask import Flask, render_template\\n   from bokeh.plotting import figure\\n   from bokeh.embed import components\\n\\n   app = Flask(__name__)\\n\\n   @app.route(\\'/\\')\\n   def index():\\n       # Create a Bokeh plot\\n       p = figure(title=\"My Bokeh Plot\", x_axis_label=\\'X-axis\\', y_axis_label=\\'Y-axis\\')\\n       # Add glyphs and customize the plot here\\n\\n       # Convert plot to HTML components\\n       script, div = components(p)\\n       return render_template(\\'index.html\\', script=script, div=div)\\n\\n   if __name__ == \\'__main__\\':\\n       app.run(debug=True)\\n  \\n\\n3. Create HTML Template:\\n   Create an HTML template (e.g., `templates/index.html`) that includes the Bokeh plot components using Jinja2 templating.\\n\\n   ```html\\n   <!DOCTYPE html>\\n   <html lang=\"en\">\\n   <head>\\n       <meta charset=\"UTF-8\">\\n       <title>Bokeh Plot in Flask</title>\\n       {{ script|safe }}\\n   </head>\\n   <body>\\n       <h1>Embedded Bokeh Plot</h1>\\n       {{ div|safe }}\\n   </body>\\n   </html>\\n   ```\\n\\nUsing Django:\\n\\n1. Install Django and Bokeh:\\n   If you haven\\'t already, install Django and Bokeh:\\n\\n   \\n   pip install Django bokeh\\n   \\n\\n2. Create a Django Project and App:\\n   Create a Django project and app. In your app\\'s views, generate the Bokeh plot and convert it to HTML components.\\n\\n   \\n   from django.shortcuts import render\\n   from bokeh.plotting import figure\\n   from bokeh.embed import components\\n\\n   def bokeh_plot(request):\\n       # Create a Bokeh plot\\n       p = figure(title=\"My Bokeh Plot\", x_axis_label=\\'X-axis\\', y_axis_label=\\'Y-axis\\')\\n       # Add glyphs and customize the plot here\\n\\n       # Convert plot to HTML components\\n       script, div = components(p)\\n       return render(request, \\'app/bokeh_plot.html\\', {\\'script\\': script, \\'div\\': div})\\n  \\n\\n3. Create HTML Template:\\n   Create an HTML template (e.g., `app/templates/app/bokeh_plot.html`) that includes the Bokeh plot components.\\n\\n   ```html\\n   <!DOCTYPE html>\\n   <html lang=\"en\">\\n   <head>\\n       <meta charset=\"UTF-8\">\\n       <title>Bokeh Plot in Django</title>\\n       {{ script|safe }}\\n   </head>\\n   <body>\\n       <h1>Embedded Bokeh Plot</h1>\\n       {{ div|safe }}\\n   </body>\\n   </html>'"
            ],
            "application/vnd.google.colaboratory.intrinsic+json": {
              "type": "string"
            }
          },
          "metadata": {},
          "execution_count": 9
        }
      ]
    },
    {
      "cell_type": "code",
      "source": [],
      "metadata": {
        "id": "4kpdbab9Ln9F"
      },
      "execution_count": null,
      "outputs": []
    }
  ]
}